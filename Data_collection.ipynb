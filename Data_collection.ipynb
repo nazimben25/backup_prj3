{
 "cells": [
  {
   "cell_type": "code",
   "execution_count": 72,
   "metadata": {},
   "outputs": [],
   "source": [
    "## Dependencies\n",
    "\n",
    "import pandas as pd\n",
    "import pathlib as path\n",
    "\n",
    "\n",
    "\n",
    "import requests\n",
    "import json\n",
    "from pprint import pprint\n",
    "\n",
    "# import numpy as np\n",
    "# from scipy.stats import linregress\n",
    "\n",
    "# import matplotlib.pyplot as plt\n",
    "# import hvplot.pandas\n",
    "# import geopandas as gpd"
   ]
  },
  {
   "cell_type": "markdown",
   "metadata": {},
   "source": [
    "# (1) collect immigration data "
   ]
  },
  {
   "cell_type": "markdown",
   "metadata": {},
   "source": [
    "##### Data source from IRCC web site\n",
    "https://www.ircc.canada.ca/opendata-donneesouvertes/data/ODP-PR-Citz.csv\n",
    "from\n",
    "https://ouvert.canada.ca/data/fr/dataset/f7e5498e-0ad8-4417-85c9-9b8aff9b9eda/resource/5f5fa9ca-b621-4dac-91d1-25654a25735c"
   ]
  },
  {
   "cell_type": "code",
   "execution_count": 73,
   "metadata": {},
   "outputs": [
    {
     "data": {
      "text/html": [
       "<div>\n",
       "<style scoped>\n",
       "    .dataframe tbody tr th:only-of-type {\n",
       "        vertical-align: middle;\n",
       "    }\n",
       "\n",
       "    .dataframe tbody tr th {\n",
       "        vertical-align: top;\n",
       "    }\n",
       "\n",
       "    .dataframe thead th {\n",
       "        text-align: right;\n",
       "    }\n",
       "</style>\n",
       "<table border=\"1\" class=\"dataframe\">\n",
       "  <thead>\n",
       "    <tr style=\"text-align: right;\">\n",
       "      <th></th>\n",
       "      <th>EN_YEAR</th>\n",
       "      <th>EN_QUARTER</th>\n",
       "      <th>EN_MONTH</th>\n",
       "      <th>FR_ANNEÉ</th>\n",
       "      <th>FR_TRIMESTRE</th>\n",
       "      <th>FR_MOIS</th>\n",
       "      <th>EN_COUNTRY_OF_CITIZENSHIP</th>\n",
       "      <th>FR_PAYS_DE_CITOYENNETÉ</th>\n",
       "      <th>TOTAL</th>\n",
       "    </tr>\n",
       "  </thead>\n",
       "  <tbody>\n",
       "    <tr>\n",
       "      <th>0</th>\n",
       "      <td>2015</td>\n",
       "      <td>Q1</td>\n",
       "      <td>Feb</td>\n",
       "      <td>2015</td>\n",
       "      <td>T1</td>\n",
       "      <td>fév.</td>\n",
       "      <td>Afghanistan</td>\n",
       "      <td>Afghanistan</td>\n",
       "      <td>125</td>\n",
       "    </tr>\n",
       "    <tr>\n",
       "      <th>1</th>\n",
       "      <td>2015</td>\n",
       "      <td>Q1</td>\n",
       "      <td>Feb</td>\n",
       "      <td>2015</td>\n",
       "      <td>T1</td>\n",
       "      <td>fév.</td>\n",
       "      <td>Albania</td>\n",
       "      <td>Albanie</td>\n",
       "      <td>25</td>\n",
       "    </tr>\n",
       "    <tr>\n",
       "      <th>2</th>\n",
       "      <td>2015</td>\n",
       "      <td>Q1</td>\n",
       "      <td>Feb</td>\n",
       "      <td>2015</td>\n",
       "      <td>T1</td>\n",
       "      <td>fév.</td>\n",
       "      <td>Algeria</td>\n",
       "      <td>Algérie</td>\n",
       "      <td>125</td>\n",
       "    </tr>\n",
       "    <tr>\n",
       "      <th>3</th>\n",
       "      <td>2015</td>\n",
       "      <td>Q1</td>\n",
       "      <td>Feb</td>\n",
       "      <td>2015</td>\n",
       "      <td>T1</td>\n",
       "      <td>fév.</td>\n",
       "      <td>Antigua and Barbuda</td>\n",
       "      <td>Antigua-et-Barbuda</td>\n",
       "      <td>5</td>\n",
       "    </tr>\n",
       "    <tr>\n",
       "      <th>4</th>\n",
       "      <td>2015</td>\n",
       "      <td>Q1</td>\n",
       "      <td>Feb</td>\n",
       "      <td>2015</td>\n",
       "      <td>T1</td>\n",
       "      <td>fév.</td>\n",
       "      <td>Argentina</td>\n",
       "      <td>Argentine</td>\n",
       "      <td>15</td>\n",
       "    </tr>\n",
       "  </tbody>\n",
       "</table>\n",
       "</div>"
      ],
      "text/plain": [
       "   EN_YEAR EN_QUARTER EN_MONTH  FR_ANNEÉ FR_TRIMESTRE FR_MOIS  \\\n",
       "0     2015         Q1      Feb      2015           T1    fév.   \n",
       "1     2015         Q1      Feb      2015           T1    fév.   \n",
       "2     2015         Q1      Feb      2015           T1    fév.   \n",
       "3     2015         Q1      Feb      2015           T1    fév.   \n",
       "4     2015         Q1      Feb      2015           T1    fév.   \n",
       "\n",
       "  EN_COUNTRY_OF_CITIZENSHIP FR_PAYS_DE_CITOYENNETÉ TOTAL  \n",
       "0               Afghanistan            Afghanistan   125  \n",
       "1                   Albania                Albanie    25  \n",
       "2                   Algeria                Algérie   125  \n",
       "3       Antigua and Barbuda     Antigua-et-Barbuda     5  \n",
       "4                 Argentina              Argentine    15  "
      ]
     },
     "execution_count": 73,
     "metadata": {},
     "output_type": "execute_result"
    }
   ],
   "source": [
    "### import and read csv file\n",
    "\n",
    "path_imm = 'https://www.ircc.canada.ca/opendata-donneesouvertes/data/ODP-PR-Citz.csv'\n",
    "imm_df = pd.read_csv(path_imm, delimiter='\\t')\n",
    "\n",
    "imm_df.to_csv('Resources/immigration_raw_data.csv')\n",
    "imm_df.head(5)"
   ]
  },
  {
   "cell_type": "code",
   "execution_count": 74,
   "metadata": {},
   "outputs": [
    {
     "data": {
      "text/plain": [
       "EN_YEAR                       int64\n",
       "EN_QUARTER                   object\n",
       "EN_MONTH                     object\n",
       "FR_ANNEÉ                      int64\n",
       "FR_TRIMESTRE                 object\n",
       "FR_MOIS                      object\n",
       "EN_COUNTRY_OF_CITIZENSHIP    object\n",
       "FR_PAYS_DE_CITOYENNETÉ       object\n",
       "TOTAL                        object\n",
       "dtype: object"
      ]
     },
     "execution_count": 74,
     "metadata": {},
     "output_type": "execute_result"
    }
   ],
   "source": [
    "#check datatype \n",
    "\n",
    "imm_df.dtypes"
   ]
  },
  {
   "cell_type": "code",
   "execution_count": 75,
   "metadata": {},
   "outputs": [
    {
     "data": {
      "text/plain": [
       "Index(['EN_YEAR', 'EN_QUARTER', 'EN_MONTH', 'EN_COUNTRY_OF_CITIZENSHIP',\n",
       "       'TOTAL'],\n",
       "      dtype='object')"
      ]
     },
     "execution_count": 75,
     "metadata": {},
     "output_type": "execute_result"
    }
   ],
   "source": [
    "# drop useless columns\n",
    "\n",
    "imm_clean_df = imm_df.drop(columns=['FR_ANNEÉ','FR_TRIMESTRE','FR_MOIS','FR_PAYS_DE_CITOYENNETÉ'])\n",
    "imm_clean_df.columns"
   ]
  },
  {
   "cell_type": "code",
   "execution_count": 76,
   "metadata": {},
   "outputs": [
    {
     "name": "stdout",
     "output_type": "stream",
     "text": [
      "EN_YEAR                          2015\n",
      "EN_QUARTER                         Q1\n",
      "EN_MONTH                          Feb\n",
      "EN_COUNTRY_OF_CITIZENSHIP    Dominica\n",
      "TOTAL                              --\n",
      "Name: 42, dtype: object\n"
     ]
    }
   ],
   "source": [
    "# check empty values with 1 example raw 42\n",
    "\n",
    "print(imm_clean_df.loc[42,])"
   ]
  },
  {
   "cell_type": "code",
   "execution_count": 77,
   "metadata": {},
   "outputs": [
    {
     "name": "stdout",
     "output_type": "stream",
     "text": [
      "EN_YEAR                          2015\n",
      "EN_QUARTER                         Q1\n",
      "EN_MONTH                          Feb\n",
      "EN_COUNTRY_OF_CITIZENSHIP    Dominica\n",
      "TOTAL                             0.0\n",
      "Name: 42, dtype: object\n"
     ]
    }
   ],
   "source": [
    "# convert Total to numeric\n",
    "\n",
    "imm_clean_df['TOTAL'] = pd.to_numeric(imm_clean_df['TOTAL'], errors='coerce')\n",
    "\n",
    "# replace empty with 0 \n",
    "\n",
    "imm_clean_df = imm_clean_df.fillna({'TOTAL': 0})\n",
    "print(imm_clean_df.loc[42,])"
   ]
  },
  {
   "cell_type": "code",
   "execution_count": 78,
   "metadata": {},
   "outputs": [
    {
     "data": {
      "text/plain": [
       "EN_YEAR                        int64\n",
       "EN_QUARTER                    object\n",
       "EN_MONTH                      object\n",
       "EN_COUNTRY_OF_CITIZENSHIP     object\n",
       "TOTAL                        float64\n",
       "dtype: object"
      ]
     },
     "execution_count": 78,
     "metadata": {},
     "output_type": "execute_result"
    }
   ],
   "source": [
    "# check that total is numeric _ integer\n",
    "\n",
    "imm_clean_df.dtypes"
   ]
  },
  {
   "cell_type": "code",
   "execution_count": 80,
   "metadata": {},
   "outputs": [
    {
     "data": {
      "text/plain": [
       "year                  int64\n",
       "quarter              object\n",
       "month_str            object\n",
       "country_x            object\n",
       "immigration_flow    float64\n",
       "dtype: object"
      ]
     },
     "execution_count": 80,
     "metadata": {},
     "output_type": "execute_result"
    }
   ],
   "source": [
    "# rename columns \n",
    "\n",
    "imm_clean_df = imm_clean_df.rename(columns={\n",
    "                                            'EN_YEAR'            :           'year' ,\n",
    "                                            'EN_QUARTER'         :          'quarter' , \n",
    "                                            'EN_MONTH'           :          'month_str' ,\n",
    "                                            'EN_COUNTRY_OF_CITIZENSHIP' :   'country_x' ,  # will be splitted and replaced\n",
    "                                            'TOTAL'              :           'immigration_flow'\n",
    "                                            })\n",
    "imm_clean_df.dtypes"
   ]
  },
  {
   "cell_type": "code",
   "execution_count": 81,
   "metadata": {},
   "outputs": [
    {
     "data": {
      "text/plain": [
       "array(['Feb', 'Jan', 'Mar', 'Apr', 'Jun', 'May', 'Aug', 'Jul', 'Sep',\n",
       "       'Dec', 'Nov', 'Oct'], dtype=object)"
      ]
     },
     "execution_count": 81,
     "metadata": {},
     "output_type": "execute_result"
    }
   ],
   "source": [
    "# add months with numerical values\n",
    " ## check that there is no strange value \n",
    "\n",
    "months_str = imm_clean_df['month_str'].unique()\n",
    "months_str"
   ]
  },
  {
   "cell_type": "code",
   "execution_count": 82,
   "metadata": {},
   "outputs": [
    {
     "name": "stdout",
     "output_type": "stream",
     "text": [
      "   year quarter month_str            country_x  immigration_flow  month_int\n",
      "0  2015      Q1       Feb          Afghanistan             125.0          2\n",
      "1  2015      Q1       Feb              Albania              25.0          2\n",
      "2  2015      Q1       Feb              Algeria             125.0          2\n",
      "3  2015      Q1       Feb  Antigua and Barbuda               5.0          2\n",
      "4  2015      Q1       Feb            Argentina              15.0          2\n"
     ]
    }
   ],
   "source": [
    "# use of Mapping to add integers to month abbreviations\n",
    "\n",
    "month_mapping = {\n",
    "    'Jan': 1, 'Feb': 2, 'Mar': 3, 'Apr': 4, 'May': 5, 'Jun': 6,\n",
    "    'Jul': 7, 'Aug': 8, 'Sep': 9, 'Oct': 10, 'Nov': 11, 'Dec': 12\n",
    "}\n",
    "\n",
    "# Map month abbreviations to integers using the dictionary\n",
    "imm_clean_df['month_int'] = imm_clean_df['month_str'].map(month_mapping)\n",
    "\n",
    "print(imm_clean_df.head())"
   ]
  },
  {
   "cell_type": "code",
   "execution_count": 83,
   "metadata": {},
   "outputs": [
    {
     "name": "stdout",
     "output_type": "stream",
     "text": [
      "year                                           2015\n",
      "quarter                                          Q1\n",
      "month_str                                       Feb\n",
      "country_x           Congo, People's Republic of the\n",
      "immigration_flow                                0.0\n",
      "month_int                                         2\n",
      "Name: 34, dtype: object\n"
     ]
    }
   ],
   "source": [
    "# extract useless values from country name (after the comma)\n",
    "## example Congo\n",
    "\n",
    "print(imm_clean_df.loc[34,])"
   ]
  },
  {
   "cell_type": "code",
   "execution_count": 84,
   "metadata": {},
   "outputs": [
    {
     "name": "stdout",
     "output_type": "stream",
     "text": [
      "year                                           2015\n",
      "quarter                                          Q1\n",
      "month_str                                       Feb\n",
      "country_x           Congo, People's Republic of the\n",
      "immigration_flow                                0.0\n",
      "month_int                                         2\n",
      "country                                       Congo\n",
      "country_add                People's Republic of the\n",
      "Name: 34, dtype: object\n"
     ]
    }
   ],
   "source": [
    "# split the country name column using delimiter ','\n",
    "\n",
    "imm_clean_df[['country', 'country_add']] = imm_clean_df['country_x']\\\n",
    "                                                    .str.split(',', expand=True)\n",
    "\n",
    "print(imm_clean_df.loc[34,])"
   ]
  },
  {
   "cell_type": "code",
   "execution_count": 85,
   "metadata": {},
   "outputs": [
    {
     "data": {
      "text/plain": [
       "Index(['year', 'quarter', 'month_str', 'immigration_flow', 'month_int',\n",
       "       'country'],\n",
       "      dtype='object')"
      ]
     },
     "execution_count": 85,
     "metadata": {},
     "output_type": "execute_result"
    }
   ],
   "source": [
    "# keep only country name cleaned \n",
    "\n",
    "imm_clean_df = imm_clean_df.drop(columns=['country_x','country_add'])\n",
    "imm_clean_df.columns"
   ]
  },
  {
   "cell_type": "code",
   "execution_count": 86,
   "metadata": {},
   "outputs": [
    {
     "name": "stdout",
     "output_type": "stream",
     "text": [
      "year                 2015\n",
      "quarter                Q1\n",
      "month_str             Feb\n",
      "immigration_flow      0.0\n",
      "month_int               2\n",
      "country             Congo\n",
      "Name: 34, dtype: object\n"
     ]
    }
   ],
   "source": [
    "# check with congo\n",
    "\n",
    "print(imm_clean_df.loc[34,])"
   ]
  },
  {
   "cell_type": "code",
   "execution_count": 87,
   "metadata": {},
   "outputs": [
    {
     "data": {
      "text/plain": [
       "Index(['country', 'year', 'month_str', 'month_int', 'quarter',\n",
       "       'immigration_flow'],\n",
       "      dtype='object')"
      ]
     },
     "execution_count": 87,
     "metadata": {},
     "output_type": "execute_result"
    }
   ],
   "source": [
    "# organize columns\n",
    "\n",
    "imm_clean_df = imm_clean_df[['country','year', 'month_str', \n",
    "                            'month_int','quarter', 'immigration_flow']]\n",
    "imm_clean_df.columns"
   ]
  },
  {
   "cell_type": "code",
   "execution_count": 88,
   "metadata": {},
   "outputs": [],
   "source": [
    "# export to CSV\n",
    "\n",
    "imm_clean_df.to_csv('Output/immigrants_by_country_monthly.csv')"
   ]
  },
  {
   "cell_type": "code",
   "execution_count": 90,
   "metadata": {},
   "outputs": [
    {
     "data": {
      "text/plain": [
       "country      year\n",
       "Afghanistan  2015    2625.0\n",
       "             2016    2655.0\n",
       "             2017    3460.0\n",
       "             2018    3560.0\n",
       "             2019    3890.0\n",
       "                      ...  \n",
       "Zimbabwe     2020     335.0\n",
       "             2021     505.0\n",
       "             2022     615.0\n",
       "             2023     555.0\n",
       "             2024     505.0\n",
       "Name: immigration_flow, Length: 1887, dtype: float64"
      ]
     },
     "execution_count": 90,
     "metadata": {},
     "output_type": "execute_result"
    }
   ],
   "source": [
    "# groupby country / year to get the total by country\n",
    "\n",
    "imm_yearly = imm_clean_df.groupby(['country','year'])['immigration_flow'].sum()\n",
    "imm_yearly.to_csv('Output/immigrants_by_country_year.csv')\n",
    "imm_yearly"
   ]
  },
  {
   "cell_type": "code",
   "execution_count": 91,
   "metadata": {},
   "outputs": [
    {
     "data": {
      "text/plain": [
       "country\n",
       "Afghanistan       81305.0\n",
       "Albania            5540.0\n",
       "Algeria           39655.0\n",
       "Andorra               0.0\n",
       "Angola              925.0\n",
       "                   ...   \n",
       "Virgin Islands        0.0\n",
       "Western Sahara        0.0\n",
       "Yemen              5875.0\n",
       "Zambia              605.0\n",
       "Zimbabwe           4610.0\n",
       "Name: immigration_flow, Length: 213, dtype: float64"
      ]
     },
     "execution_count": 91,
     "metadata": {},
     "output_type": "execute_result"
    }
   ],
   "source": [
    "# groupby to get the total by country\n",
    "\n",
    "imm_bycountry = imm_clean_df.groupby(['country'])['immigration_flow'].sum()\n",
    "imm_bycountry.to_csv('Output/immigrants_by_country.csv')\n",
    "imm_bycountry"
   ]
  },
  {
   "cell_type": "markdown",
   "metadata": {},
   "source": [
    "# (2) create DF for countries\n",
    "\n",
    "#### information will be used to merge or generate vizualisations\n",
    "source : https://api.worldbank.org/v2/country?format=json"
   ]
  },
  {
   "cell_type": "code",
   "execution_count": null,
   "metadata": {},
   "outputs": [],
   "source": [
    "country_list = imm_clean_df['country'].tolist()\n",
    "country_list"
   ]
  },
  {
   "cell_type": "code",
   "execution_count": null,
   "metadata": {},
   "outputs": [],
   "source": [
    "## retrieve all the countries from world bank API\n",
    "\n",
    "### generate DF Countries\n",
    "\n",
    "page = 1   ## there are 6 pages in the json file\n",
    "data = []\n",
    "url_countries = 'https://api.worldbank.org/v2/country?format=json'\n",
    "\n",
    "for page in range(1,7):\n",
    "    response = requests.get(f\"{url_countries}&page={page}\")\n",
    "    json_data = response.json()\n",
    "    \n",
    "    # Add the data from the current page\n",
    "    data.extend(json_data[1])  \n",
    "    \n",
    "## create DF and select columns\n",
    "\n",
    "countries_wb_df = pd.DataFrame(data)\n",
    "countries_wb_df['region'] = countries_wb_df['region'].apply(lambda x: x['value'])\n",
    "countries_wb_df = countries_wb_df[['id', 'iso2Code', 'name', 'region','capitalCity', 'longitude', 'latitude']]\n",
    "countries_wb_df = countries_wb_df.rename(columns={\n",
    "                                                    'name':'country',\n",
    "                                                    'id':'iso3Code'\n",
    "                                                    })\n",
    "\n",
    "\n",
    "regions = (countries_wb_df['region'] != \"Aggregates\")\n",
    "countries_wb_df = countries_wb_df[regions]\n",
    "\n",
    "\n",
    "countries_wb_df.head()"
   ]
  },
  {
   "cell_type": "code",
   "execution_count": 18,
   "metadata": {},
   "outputs": [],
   "source": [
    "### Export to csv file in output\n",
    "\n",
    "countries_wb_df.to_csv('Output/countries_list_UN_referential.csv')\n"
   ]
  },
  {
   "cell_type": "markdown",
   "metadata": {},
   "source": [
    "# (3) Extract macro economic data\n",
    "#### from world bank API\n",
    "source : https://api.worldbank.org/v2/country/DZA/indicator/NY.GDP.PCAP.KD?date=2015:2024&format=json"
   ]
  },
  {
   "cell_type": "code",
   "execution_count": null,
   "metadata": {},
   "outputs": [],
   "source": [
    "# the API uses the iso3Code code of the country (example PAK for pakistan, AFG for Afghanistan)\n",
    "# we need to identify the needed countries from from our immigration_df and retrieve these iso3Code from countries_df\n",
    "\n",
    "countries_request = pd.merge(imm_clean_df, countries_wb_df, left_on='country', right_on='country')\n",
    "countries_request"
   ]
  },
  {
   "cell_type": "code",
   "execution_count": null,
   "metadata": {},
   "outputs": [],
   "source": [
    "# extrac the needed iso3code in a list to be used to iterate\n",
    "\n",
    "country_list = countries_request['iso3Code'].unique().tolist()\n",
    "country_list"
   ]
  },
  {
   "cell_type": "code",
   "execution_count": 21,
   "metadata": {},
   "outputs": [],
   "source": [
    "import requests"
   ]
  },
  {
   "cell_type": "code",
   "execution_count": null,
   "metadata": {},
   "outputs": [],
   "source": [
    "# this line is just to check that we are connected to the APIT : O TEST before loop\n",
    "\n",
    "link_pop = f'https://api.worldbank.org/v2/country/DZA/indicator/NY.GDP.PCAP.KD?date=2015:2024&format=json'\n",
    "response_pop = requests.get(link_pop).json()\n",
    "\n",
    "pprint(response_pop)"
   ]
  },
  {
   "cell_type": "code",
   "execution_count": null,
   "metadata": {},
   "outputs": [],
   "source": [
    "# this cell is used to check our code before to launch the loop \n",
    "# TO TEST before loop\n",
    "\n",
    "\n",
    "link_pop = f'https://api.worldbank.org/v2/country/DZA/indicator/NY.GDP.PCAP.KD?date=2015:2024&format=json'\n",
    "response_pop = requests.get(link_pop).json()\n",
    "\n",
    "# pprint(response_pop)\n",
    "\n",
    "pop_list = []\n",
    "for item in response_pop[1]:  # Assuming response_pop[1] is a list of dictionaries\n",
    "    pop_list.append({\n",
    "        'iso3Code': item['countryiso3code'],\n",
    "        'iso2Code': item['country']['id'],\n",
    "        'Country': item['country']['value'],              \n",
    "        'year': item['date'],\n",
    "        'indicator': item['indicator']['value'],\n",
    "        'value': item['value']\n",
    "    })\n",
    "\n",
    "pop_list"
   ]
  },
  {
   "cell_type": "code",
   "execution_count": 22,
   "metadata": {},
   "outputs": [],
   "source": [
    "# DEFINE THE VARIABLES : INDICATORS, TIME PERIOD\n",
    "\n",
    "# create the list of indicators\n",
    "            #  'NY.GDP.PCAP.KD' gdp per capita\n",
    "            # 'SP.POP.TOTL' total population\n",
    "            #  SL.UEM.ADVN.ZS : Unemployment with advanced education (% of total labor force with advanced education)\n",
    "            # SL.UEM.TOTL.NE.ZS : Unemployment, total (% of total labor force) (national estimate)\n",
    "            # SI.POV.DDAY  Poverty headcount ratio at $2.15 a day (2017 PPP) (% of population)\n",
    "\n",
    "            # Population density (people per sq. km of land area)\tEN.POP.DNST\n",
    "            # Level of water stress: freshwater withdrawal as a proportion of available freshwater resources\tER.H2O.FWST.ZS\n",
    "            # Market capitalization of listed domestic companies (% of GDP) CM.MKT.LCAP.GD.ZS\n",
    "            # Rural population (% of total population) SP.RUR.TOTL.ZS\n",
    "            # S&P Global Equity Indices (annual % change)\tCM.MKT.INDX.ZG\n",
    "            # Voice and Accountability: Number of Sources\tVA.NO.SRC\n",
    "\n",
    "\n",
    "\n",
    "indicators = ['NY.GDP.PCAP.KD','SP.POP.TOTL' , 'SL.UEM.ADVN.ZS', 'SL.UEM.TOTL.NE.ZS', 'SI.POV.DDAY',\n",
    "              'EN.POP.DNST', 'ER.H2O.FWST.ZS', 'CM.MKT.LCAP.GD.ZS', 'SP.RUR.TOTL.ZS', 'CM.MKT.INDX.ZG', 'VA.NO.SRC' ]\n",
    "\n",
    "# define 1st and last year f the loop\n",
    "\n",
    "year_min = 2015\n",
    "year_max = 2024\n",
    "years_list = [x for x in range(year_min, year_max +1)]   # COULD BE USED BUT NOT IN THE CURRENT CODE\n"
   ]
  },
  {
   "cell_type": "code",
   "execution_count": null,
   "metadata": {},
   "outputs": [],
   "source": [
    "# lOOP to extrac tdata from API : between 7 and 9 minutes\n",
    "\n",
    "# this code will loop through all the listed countries and the needed indicators to generate a list\n",
    "\n",
    "print(f\"start code\")\n",
    "print('---------------------------')\n",
    "\n",
    "macro_eco_data_list = []\n",
    "\n",
    "# the end point is defined by (i) country (II) indicator (III) year start and year end\n",
    "        # => we need to create 1 end point of each country / indicator\n",
    "\n",
    "for i in country_list :\n",
    "\n",
    "    for j in indicators :\n",
    "\n",
    "        print(f\"--------------------------\")\n",
    "        print(f\"country {i} indicator {j}\")\n",
    "\n",
    "        try:\n",
    "\n",
    "            # define the end point by country (from list I) and indicator (from list J)\n",
    "\n",
    "            link_pop = f'https://api.worldbank.org/v2/country/{i}/indicator/{j}?date={year_min}:{year_max}&format=json'\n",
    "            response_pop = requests.get(link_pop).json()\n",
    "\n",
    "            # loop through the response_pop (list) to extract the value for each year in the serie \n",
    "\n",
    "            for item in response_pop[1]:  \n",
    "                macro_eco_data_list.append({\n",
    "                    'iso3Code': item['countryiso3code'],\n",
    "                    'iso2Code': item['country']['id'],\n",
    "                    'country': item['country']['value'],              \n",
    "                    'year': item['date'],\n",
    "                    'indicator': item['indicator']['value'],\n",
    "                    'value': item['value']\n",
    "                })\n",
    "        except:   \n",
    "            print(f\"country {i} indicator {j}....... not found\")"
   ]
  },
  {
   "cell_type": "code",
   "execution_count": null,
   "metadata": {},
   "outputs": [],
   "source": [
    "## Create DF with the previous output\n",
    "\n",
    "macro_eco_data_df = pd.DataFrame(macro_eco_data_list)\n",
    "macro_eco_data_df = macro_eco_data_df.dropna(how='all')\n",
    "\n",
    "macro_eco_data_df.head()"
   ]
  },
  {
   "cell_type": "code",
   "execution_count": null,
   "metadata": {},
   "outputs": [],
   "source": [
    "print(f'size of the DF : {macro_eco_data_df.shape}')\n",
    "print('................')\n",
    "print(macro_eco_data_df.dtypes)"
   ]
  },
  {
   "cell_type": "code",
   "execution_count": null,
   "metadata": {},
   "outputs": [],
   "source": [
    "# change datatype \n",
    "\n",
    "macro_eco_data_df = macro_eco_data_df.astype({'year':'int64'})\n",
    "macro_eco_data_df.dtypes"
   ]
  },
  {
   "cell_type": "code",
   "execution_count": 30,
   "metadata": {},
   "outputs": [],
   "source": [
    "# export to csv\n",
    "\n",
    "macro_eco_data_df.to_csv('Output/macro_economic_data.csv')"
   ]
  }
 ],
 "metadata": {
  "kernelspec": {
   "display_name": "base",
   "language": "python",
   "name": "python3"
  },
  "language_info": {
   "codemirror_mode": {
    "name": "ipython",
    "version": 3
   },
   "file_extension": ".py",
   "mimetype": "text/x-python",
   "name": "python",
   "nbconvert_exporter": "python",
   "pygments_lexer": "ipython3",
   "version": "3.12.3"
  }
 },
 "nbformat": 4,
 "nbformat_minor": 2
}
