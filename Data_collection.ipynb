{
 "cells": [
  {
   "cell_type": "code",
   "execution_count": 1,
   "metadata": {},
   "outputs": [],
   "source": [
    "## Dependencies\n",
    "\n",
    "import pandas as pd\n",
    "import pathlib as path\n",
    "\n",
    "\n",
    "\n",
    "import requests\n",
    "import json\n",
    "from pprint import pprint\n",
    "\n",
    "import numpy as np\n",
    "from scipy.stats import linregress\n",
    "\n",
    "from io import StringIO\n",
    "\n",
    "# import matplotlib.pyplot as plt\n",
    "# import hvplot.pandas\n",
    "# import geopandas as gpd"
   ]
  },
  {
   "cell_type": "markdown",
   "metadata": {},
   "source": [
    "# (1) collect immigration data "
   ]
  },
  {
   "cell_type": "markdown",
   "metadata": {},
   "source": [
    "##### Data source from IRCC web site\n",
    "https://www.ircc.canada.ca/opendata-donneesouvertes/data/ODP-PR-Citz.csv\n",
    "from\n",
    "https://ouvert.canada.ca/data/fr/dataset/f7e5498e-0ad8-4417-85c9-9b8aff9b9eda/resource/5f5fa9ca-b621-4dac-91d1-25654a25735c"
   ]
  },
  {
   "cell_type": "code",
   "execution_count": 2,
   "metadata": {},
   "outputs": [],
   "source": [
    "# # Define the path to your CSV file\n",
    "# path_imm = 'https://www.ircc.canada.ca/opendata-donneesouvertes/data/ODP-PR-Citz.csv'\n",
    "\n",
    "# # Fetch the CSV file content\n",
    "# response = requests.get(path_imm)\n",
    "# response.raise_for_status()  # Check if the request was successful\n",
    "\n",
    "# # Decode the content from binary to text\n",
    "# content = response.content.decode('utf-8')\n",
    "\n",
    "# # Use StringIO to read the content as if it were a file\n",
    "# content_io = StringIO(content)\n",
    "\n",
    "# # Read the CSV file into a DataFrame using pandas\n",
    "# imm_df = pd.read_csv(content_io, delimiter='\\t', dtype=str)\n"
   ]
  },
  {
   "cell_type": "code",
   "execution_count": null,
   "metadata": {},
   "outputs": [],
   "source": [
    "# imm_df.head(5)"
   ]
  },
  {
   "cell_type": "code",
   "execution_count": 2,
   "metadata": {},
   "outputs": [
    {
     "data": {
      "text/html": [
       "<div>\n",
       "<style scoped>\n",
       "    .dataframe tbody tr th:only-of-type {\n",
       "        vertical-align: middle;\n",
       "    }\n",
       "\n",
       "    .dataframe tbody tr th {\n",
       "        vertical-align: top;\n",
       "    }\n",
       "\n",
       "    .dataframe thead th {\n",
       "        text-align: right;\n",
       "    }\n",
       "</style>\n",
       "<table border=\"1\" class=\"dataframe\">\n",
       "  <thead>\n",
       "    <tr style=\"text-align: right;\">\n",
       "      <th></th>\n",
       "      <th>EN_YEAR</th>\n",
       "      <th>EN_QUARTER</th>\n",
       "      <th>EN_MONTH</th>\n",
       "      <th>FR_ANNEÉ</th>\n",
       "      <th>FR_TRIMESTRE</th>\n",
       "      <th>FR_MOIS</th>\n",
       "      <th>EN_COUNTRY_OF_CITIZENSHIP</th>\n",
       "      <th>FR_PAYS_DE_CITOYENNETÉ</th>\n",
       "      <th>TOTAL</th>\n",
       "    </tr>\n",
       "  </thead>\n",
       "  <tbody>\n",
       "    <tr>\n",
       "      <th>0</th>\n",
       "      <td>2015</td>\n",
       "      <td>Q1</td>\n",
       "      <td>Feb</td>\n",
       "      <td>2015</td>\n",
       "      <td>T1</td>\n",
       "      <td>fév.</td>\n",
       "      <td>Afghanistan</td>\n",
       "      <td>Afghanistan</td>\n",
       "      <td>125</td>\n",
       "    </tr>\n",
       "    <tr>\n",
       "      <th>1</th>\n",
       "      <td>2015</td>\n",
       "      <td>Q1</td>\n",
       "      <td>Feb</td>\n",
       "      <td>2015</td>\n",
       "      <td>T1</td>\n",
       "      <td>fév.</td>\n",
       "      <td>Albania</td>\n",
       "      <td>Albanie</td>\n",
       "      <td>25</td>\n",
       "    </tr>\n",
       "    <tr>\n",
       "      <th>2</th>\n",
       "      <td>2015</td>\n",
       "      <td>Q1</td>\n",
       "      <td>Feb</td>\n",
       "      <td>2015</td>\n",
       "      <td>T1</td>\n",
       "      <td>fév.</td>\n",
       "      <td>Algeria</td>\n",
       "      <td>Algérie</td>\n",
       "      <td>125</td>\n",
       "    </tr>\n",
       "    <tr>\n",
       "      <th>3</th>\n",
       "      <td>2015</td>\n",
       "      <td>Q1</td>\n",
       "      <td>Feb</td>\n",
       "      <td>2015</td>\n",
       "      <td>T1</td>\n",
       "      <td>fév.</td>\n",
       "      <td>Antigua and Barbuda</td>\n",
       "      <td>Antigua-et-Barbuda</td>\n",
       "      <td>5</td>\n",
       "    </tr>\n",
       "    <tr>\n",
       "      <th>4</th>\n",
       "      <td>2015</td>\n",
       "      <td>Q1</td>\n",
       "      <td>Feb</td>\n",
       "      <td>2015</td>\n",
       "      <td>T1</td>\n",
       "      <td>fév.</td>\n",
       "      <td>Argentina</td>\n",
       "      <td>Argentine</td>\n",
       "      <td>15</td>\n",
       "    </tr>\n",
       "  </tbody>\n",
       "</table>\n",
       "</div>"
      ],
      "text/plain": [
       "   EN_YEAR EN_QUARTER EN_MONTH  FR_ANNEÉ FR_TRIMESTRE FR_MOIS  \\\n",
       "0     2015         Q1      Feb      2015           T1    fév.   \n",
       "1     2015         Q1      Feb      2015           T1    fév.   \n",
       "2     2015         Q1      Feb      2015           T1    fév.   \n",
       "3     2015         Q1      Feb      2015           T1    fév.   \n",
       "4     2015         Q1      Feb      2015           T1    fév.   \n",
       "\n",
       "  EN_COUNTRY_OF_CITIZENSHIP FR_PAYS_DE_CITOYENNETÉ TOTAL  \n",
       "0               Afghanistan            Afghanistan   125  \n",
       "1                   Albania                Albanie    25  \n",
       "2                   Algeria                Algérie   125  \n",
       "3       Antigua and Barbuda     Antigua-et-Barbuda     5  \n",
       "4                 Argentina              Argentine    15  "
      ]
     },
     "execution_count": 2,
     "metadata": {},
     "output_type": "execute_result"
    }
   ],
   "source": [
    "### import and read csv file\n",
    "\n",
    "path_imm = 'https://www.ircc.canada.ca/opendata-donneesouvertes/data/ODP-PR-Citz.csv'\n",
    "imm_df = pd.read_csv(path_imm, delimiter='\\t')\n",
    "\n",
    "imm_df.to_csv('Resources/immigration_raw_data.csv')\n",
    "imm_df.head(5)"
   ]
  },
  {
   "cell_type": "code",
   "execution_count": 3,
   "metadata": {},
   "outputs": [
    {
     "data": {
      "text/html": [
       "<div>\n",
       "<style scoped>\n",
       "    .dataframe tbody tr th:only-of-type {\n",
       "        vertical-align: middle;\n",
       "    }\n",
       "\n",
       "    .dataframe tbody tr th {\n",
       "        vertical-align: top;\n",
       "    }\n",
       "\n",
       "    .dataframe thead th {\n",
       "        text-align: right;\n",
       "    }\n",
       "</style>\n",
       "<table border=\"1\" class=\"dataframe\">\n",
       "  <thead>\n",
       "    <tr style=\"text-align: right;\">\n",
       "      <th></th>\n",
       "      <th>EN_YEAR</th>\n",
       "      <th>EN_QUARTER</th>\n",
       "      <th>EN_MONTH</th>\n",
       "      <th>EN_COUNTRY_OF_CITIZENSHIP</th>\n",
       "      <th>TOTAL</th>\n",
       "    </tr>\n",
       "  </thead>\n",
       "  <tbody>\n",
       "    <tr>\n",
       "      <th>0</th>\n",
       "      <td>2015</td>\n",
       "      <td>Q1</td>\n",
       "      <td>Feb</td>\n",
       "      <td>Afghanistan</td>\n",
       "      <td>125</td>\n",
       "    </tr>\n",
       "    <tr>\n",
       "      <th>1</th>\n",
       "      <td>2015</td>\n",
       "      <td>Q1</td>\n",
       "      <td>Feb</td>\n",
       "      <td>Albania</td>\n",
       "      <td>25</td>\n",
       "    </tr>\n",
       "    <tr>\n",
       "      <th>2</th>\n",
       "      <td>2015</td>\n",
       "      <td>Q1</td>\n",
       "      <td>Feb</td>\n",
       "      <td>Algeria</td>\n",
       "      <td>125</td>\n",
       "    </tr>\n",
       "    <tr>\n",
       "      <th>3</th>\n",
       "      <td>2015</td>\n",
       "      <td>Q1</td>\n",
       "      <td>Feb</td>\n",
       "      <td>Antigua and Barbuda</td>\n",
       "      <td>5</td>\n",
       "    </tr>\n",
       "    <tr>\n",
       "      <th>4</th>\n",
       "      <td>2015</td>\n",
       "      <td>Q1</td>\n",
       "      <td>Feb</td>\n",
       "      <td>Argentina</td>\n",
       "      <td>15</td>\n",
       "    </tr>\n",
       "  </tbody>\n",
       "</table>\n",
       "</div>"
      ],
      "text/plain": [
       "   EN_YEAR EN_QUARTER EN_MONTH EN_COUNTRY_OF_CITIZENSHIP TOTAL\n",
       "0     2015         Q1      Feb               Afghanistan   125\n",
       "1     2015         Q1      Feb                   Albania    25\n",
       "2     2015         Q1      Feb                   Algeria   125\n",
       "3     2015         Q1      Feb       Antigua and Barbuda     5\n",
       "4     2015         Q1      Feb                 Argentina    15"
      ]
     },
     "execution_count": 3,
     "metadata": {},
     "output_type": "execute_result"
    }
   ],
   "source": [
    "# drop useless columns\n",
    "\n",
    "imm_df = imm_df.drop(columns=['FR_ANNEÉ','FR_TRIMESTRE','FR_MOIS','FR_PAYS_DE_CITOYENNETÉ'])\n",
    "imm_df.head(5)"
   ]
  },
  {
   "cell_type": "code",
   "execution_count": 4,
   "metadata": {},
   "outputs": [
    {
     "name": "stdout",
     "output_type": "stream",
     "text": [
      "EN_YEAR                          2015\n",
      "EN_QUARTER                         Q1\n",
      "EN_MONTH                          Feb\n",
      "EN_COUNTRY_OF_CITIZENSHIP    Dominica\n",
      "TOTAL                              --\n",
      "Name: 42, dtype: object\n"
     ]
    }
   ],
   "source": [
    "# check empty values with 1 example raw 42\n",
    "\n",
    "print(imm_df.loc[42,])"
   ]
  },
  {
   "cell_type": "code",
   "execution_count": 5,
   "metadata": {},
   "outputs": [],
   "source": [
    "imm_clean_df = imm_df.copy()"
   ]
  },
  {
   "cell_type": "code",
   "execution_count": 6,
   "metadata": {},
   "outputs": [
    {
     "name": "stdout",
     "output_type": "stream",
     "text": [
      "EN_YEAR                          2015\n",
      "EN_QUARTER                         Q1\n",
      "EN_MONTH                          Feb\n",
      "EN_COUNTRY_OF_CITIZENSHIP    Dominica\n",
      "TOTAL                               0\n",
      "Name: 42, dtype: object\n"
     ]
    }
   ],
   "source": [
    "# convert Total to numeric\n",
    "\n",
    "imm_clean_df['TOTAL'] = pd.to_numeric(imm_clean_df['TOTAL'], errors='coerce')\n",
    "\n",
    "# replace NAN with 0 and change data type\n",
    "\n",
    "imm_clean_df = imm_clean_df.fillna({'TOTAL': 0})\n",
    "imm_clean_df = imm_clean_df.astype({'TOTAL': 'int64'})\n",
    "print(imm_clean_df.loc[42,])"
   ]
  },
  {
   "cell_type": "code",
   "execution_count": 7,
   "metadata": {},
   "outputs": [
    {
     "data": {
      "text/plain": [
       "EN_YEAR                       int64\n",
       "EN_QUARTER                   object\n",
       "EN_MONTH                     object\n",
       "EN_COUNTRY_OF_CITIZENSHIP    object\n",
       "TOTAL                         int64\n",
       "dtype: object"
      ]
     },
     "execution_count": 7,
     "metadata": {},
     "output_type": "execute_result"
    }
   ],
   "source": [
    "# check that total is numeric _ integer\n",
    "\n",
    "imm_clean_df.dtypes"
   ]
  },
  {
   "cell_type": "code",
   "execution_count": 8,
   "metadata": {},
   "outputs": [
    {
     "data": {
      "text/plain": [
       "year                 int64\n",
       "quarter             object\n",
       "month_str           object\n",
       "country_x           object\n",
       "immigration_flow     int64\n",
       "dtype: object"
      ]
     },
     "execution_count": 8,
     "metadata": {},
     "output_type": "execute_result"
    }
   ],
   "source": [
    "# rename columns \n",
    "\n",
    "imm_clean_df = imm_clean_df.rename(columns={\n",
    "                                            'EN_YEAR'            :           'year' ,\n",
    "                                            'EN_QUARTER'         :          'quarter' , \n",
    "                                            'EN_MONTH'           :          'month_str' ,\n",
    "                                            'EN_COUNTRY_OF_CITIZENSHIP' :   'country_x' ,  # will be splitted and replaced\n",
    "                                            'TOTAL'              :           'immigration_flow'\n",
    "                                            })\n",
    "imm_clean_df.dtypes"
   ]
  },
  {
   "cell_type": "code",
   "execution_count": 9,
   "metadata": {},
   "outputs": [
    {
     "data": {
      "text/plain": [
       "array(['Feb', 'Jan', 'Mar', 'Apr', 'Jun', 'May', 'Aug', 'Jul', 'Sep',\n",
       "       'Dec', 'Nov', 'Oct'], dtype=object)"
      ]
     },
     "execution_count": 9,
     "metadata": {},
     "output_type": "execute_result"
    }
   ],
   "source": [
    "# add months with numerical values\n",
    " ## check that there is no strange value \n",
    "\n",
    "months_str = imm_clean_df['month_str'].unique()\n",
    "months_str"
   ]
  },
  {
   "cell_type": "code",
   "execution_count": 10,
   "metadata": {},
   "outputs": [
    {
     "data": {
      "text/html": [
       "<div>\n",
       "<style scoped>\n",
       "    .dataframe tbody tr th:only-of-type {\n",
       "        vertical-align: middle;\n",
       "    }\n",
       "\n",
       "    .dataframe tbody tr th {\n",
       "        vertical-align: top;\n",
       "    }\n",
       "\n",
       "    .dataframe thead th {\n",
       "        text-align: right;\n",
       "    }\n",
       "</style>\n",
       "<table border=\"1\" class=\"dataframe\">\n",
       "  <thead>\n",
       "    <tr style=\"text-align: right;\">\n",
       "      <th></th>\n",
       "      <th>year</th>\n",
       "      <th>quarter</th>\n",
       "      <th>month_str</th>\n",
       "      <th>country_x</th>\n",
       "      <th>immigration_flow</th>\n",
       "      <th>month_int</th>\n",
       "    </tr>\n",
       "  </thead>\n",
       "  <tbody>\n",
       "    <tr>\n",
       "      <th>0</th>\n",
       "      <td>2015</td>\n",
       "      <td>Q1</td>\n",
       "      <td>Feb</td>\n",
       "      <td>Afghanistan</td>\n",
       "      <td>125</td>\n",
       "      <td>2</td>\n",
       "    </tr>\n",
       "    <tr>\n",
       "      <th>1</th>\n",
       "      <td>2015</td>\n",
       "      <td>Q1</td>\n",
       "      <td>Feb</td>\n",
       "      <td>Albania</td>\n",
       "      <td>25</td>\n",
       "      <td>2</td>\n",
       "    </tr>\n",
       "    <tr>\n",
       "      <th>2</th>\n",
       "      <td>2015</td>\n",
       "      <td>Q1</td>\n",
       "      <td>Feb</td>\n",
       "      <td>Algeria</td>\n",
       "      <td>125</td>\n",
       "      <td>2</td>\n",
       "    </tr>\n",
       "    <tr>\n",
       "      <th>3</th>\n",
       "      <td>2015</td>\n",
       "      <td>Q1</td>\n",
       "      <td>Feb</td>\n",
       "      <td>Antigua and Barbuda</td>\n",
       "      <td>5</td>\n",
       "      <td>2</td>\n",
       "    </tr>\n",
       "    <tr>\n",
       "      <th>4</th>\n",
       "      <td>2015</td>\n",
       "      <td>Q1</td>\n",
       "      <td>Feb</td>\n",
       "      <td>Argentina</td>\n",
       "      <td>15</td>\n",
       "      <td>2</td>\n",
       "    </tr>\n",
       "  </tbody>\n",
       "</table>\n",
       "</div>"
      ],
      "text/plain": [
       "   year quarter month_str            country_x  immigration_flow  month_int\n",
       "0  2015      Q1       Feb          Afghanistan               125          2\n",
       "1  2015      Q1       Feb              Albania                25          2\n",
       "2  2015      Q1       Feb              Algeria               125          2\n",
       "3  2015      Q1       Feb  Antigua and Barbuda                 5          2\n",
       "4  2015      Q1       Feb            Argentina                15          2"
      ]
     },
     "execution_count": 10,
     "metadata": {},
     "output_type": "execute_result"
    }
   ],
   "source": [
    "# use of Mapping to add integers to month abbreviations\n",
    "\n",
    "month_mapping = {\n",
    "    'Jan': 1, 'Feb': 2, 'Mar': 3, 'Apr': 4, 'May': 5, 'Jun': 6,\n",
    "    'Jul': 7, 'Aug': 8, 'Sep': 9, 'Oct': 10, 'Nov': 11, 'Dec': 12\n",
    "}\n",
    "\n",
    "# Map month abbreviations to integers using the dictionary\n",
    "imm_clean_df['month_int'] = imm_clean_df['month_str'].map(month_mapping)\n",
    "\n",
    "imm_clean_df.head(5)"
   ]
  },
  {
   "cell_type": "code",
   "execution_count": 11,
   "metadata": {},
   "outputs": [
    {
     "name": "stdout",
     "output_type": "stream",
     "text": [
      "year                                           2015\n",
      "quarter                                          Q1\n",
      "month_str                                       Feb\n",
      "country_x           Congo, People's Republic of the\n",
      "immigration_flow                                  0\n",
      "month_int                                         2\n",
      "Name: 34, dtype: object\n"
     ]
    }
   ],
   "source": [
    "# extract useless values from country name (after the comma)\n",
    "## example Congo\n",
    "\n",
    "print(imm_clean_df.loc[34,])"
   ]
  },
  {
   "cell_type": "code",
   "execution_count": 12,
   "metadata": {},
   "outputs": [
    {
     "name": "stdout",
     "output_type": "stream",
     "text": [
      "year                                           2015\n",
      "quarter                                          Q1\n",
      "month_str                                       Feb\n",
      "country_x           Congo, People's Republic of the\n",
      "immigration_flow                                  0\n",
      "month_int                                         2\n",
      "country                                       Congo\n",
      "country_add                People's Republic of the\n",
      "Name: 34, dtype: object\n"
     ]
    }
   ],
   "source": [
    "# split the country name column using delimiter ','\n",
    "\n",
    "imm_clean_df[['country', 'country_add']] = imm_clean_df['country_x']\\\n",
    "                                                    .str.split(',', expand=True)\n",
    "\n",
    "print(imm_clean_df.loc[34,])"
   ]
  },
  {
   "cell_type": "code",
   "execution_count": 13,
   "metadata": {},
   "outputs": [
    {
     "data": {
      "text/html": [
       "<div>\n",
       "<style scoped>\n",
       "    .dataframe tbody tr th:only-of-type {\n",
       "        vertical-align: middle;\n",
       "    }\n",
       "\n",
       "    .dataframe tbody tr th {\n",
       "        vertical-align: top;\n",
       "    }\n",
       "\n",
       "    .dataframe thead th {\n",
       "        text-align: right;\n",
       "    }\n",
       "</style>\n",
       "<table border=\"1\" class=\"dataframe\">\n",
       "  <thead>\n",
       "    <tr style=\"text-align: right;\">\n",
       "      <th></th>\n",
       "      <th>year</th>\n",
       "      <th>quarter</th>\n",
       "      <th>month_str</th>\n",
       "      <th>country_x</th>\n",
       "      <th>immigration_flow</th>\n",
       "      <th>month_int</th>\n",
       "      <th>country</th>\n",
       "      <th>country_add</th>\n",
       "    </tr>\n",
       "  </thead>\n",
       "  <tbody>\n",
       "    <tr>\n",
       "      <th>0</th>\n",
       "      <td>2015</td>\n",
       "      <td>Q1</td>\n",
       "      <td>Feb</td>\n",
       "      <td>Afghanistan</td>\n",
       "      <td>125</td>\n",
       "      <td>2</td>\n",
       "      <td>Afghanistan</td>\n",
       "      <td>-</td>\n",
       "    </tr>\n",
       "    <tr>\n",
       "      <th>1</th>\n",
       "      <td>2015</td>\n",
       "      <td>Q1</td>\n",
       "      <td>Feb</td>\n",
       "      <td>Albania</td>\n",
       "      <td>25</td>\n",
       "      <td>2</td>\n",
       "      <td>Albania</td>\n",
       "      <td>-</td>\n",
       "    </tr>\n",
       "    <tr>\n",
       "      <th>2</th>\n",
       "      <td>2015</td>\n",
       "      <td>Q1</td>\n",
       "      <td>Feb</td>\n",
       "      <td>Algeria</td>\n",
       "      <td>125</td>\n",
       "      <td>2</td>\n",
       "      <td>Algeria</td>\n",
       "      <td>-</td>\n",
       "    </tr>\n",
       "    <tr>\n",
       "      <th>3</th>\n",
       "      <td>2015</td>\n",
       "      <td>Q1</td>\n",
       "      <td>Feb</td>\n",
       "      <td>Antigua and Barbuda</td>\n",
       "      <td>5</td>\n",
       "      <td>2</td>\n",
       "      <td>Antigua and Barbuda</td>\n",
       "      <td>-</td>\n",
       "    </tr>\n",
       "    <tr>\n",
       "      <th>4</th>\n",
       "      <td>2015</td>\n",
       "      <td>Q1</td>\n",
       "      <td>Feb</td>\n",
       "      <td>Argentina</td>\n",
       "      <td>15</td>\n",
       "      <td>2</td>\n",
       "      <td>Argentina</td>\n",
       "      <td>-</td>\n",
       "    </tr>\n",
       "    <tr>\n",
       "      <th>...</th>\n",
       "      <td>...</td>\n",
       "      <td>...</td>\n",
       "      <td>...</td>\n",
       "      <td>...</td>\n",
       "      <td>...</td>\n",
       "      <td>...</td>\n",
       "      <td>...</td>\n",
       "      <td>...</td>\n",
       "    </tr>\n",
       "    <tr>\n",
       "      <th>19692</th>\n",
       "      <td>2024</td>\n",
       "      <td>Q4</td>\n",
       "      <td>Oct</td>\n",
       "      <td>Venezuela</td>\n",
       "      <td>195</td>\n",
       "      <td>10</td>\n",
       "      <td>Venezuela</td>\n",
       "      <td>-</td>\n",
       "    </tr>\n",
       "    <tr>\n",
       "      <th>19693</th>\n",
       "      <td>2024</td>\n",
       "      <td>Q4</td>\n",
       "      <td>Oct</td>\n",
       "      <td>Vietnam</td>\n",
       "      <td>360</td>\n",
       "      <td>10</td>\n",
       "      <td>Vietnam</td>\n",
       "      <td>-</td>\n",
       "    </tr>\n",
       "    <tr>\n",
       "      <th>19694</th>\n",
       "      <td>2024</td>\n",
       "      <td>Q4</td>\n",
       "      <td>Oct</td>\n",
       "      <td>Yemen</td>\n",
       "      <td>35</td>\n",
       "      <td>10</td>\n",
       "      <td>Yemen</td>\n",
       "      <td>-</td>\n",
       "    </tr>\n",
       "    <tr>\n",
       "      <th>19695</th>\n",
       "      <td>2024</td>\n",
       "      <td>Q4</td>\n",
       "      <td>Oct</td>\n",
       "      <td>Zambia</td>\n",
       "      <td>0</td>\n",
       "      <td>10</td>\n",
       "      <td>Zambia</td>\n",
       "      <td>-</td>\n",
       "    </tr>\n",
       "    <tr>\n",
       "      <th>19696</th>\n",
       "      <td>2024</td>\n",
       "      <td>Q4</td>\n",
       "      <td>Oct</td>\n",
       "      <td>Zimbabwe</td>\n",
       "      <td>35</td>\n",
       "      <td>10</td>\n",
       "      <td>Zimbabwe</td>\n",
       "      <td>-</td>\n",
       "    </tr>\n",
       "  </tbody>\n",
       "</table>\n",
       "<p>19697 rows × 8 columns</p>\n",
       "</div>"
      ],
      "text/plain": [
       "       year quarter month_str            country_x  immigration_flow  \\\n",
       "0      2015      Q1       Feb          Afghanistan               125   \n",
       "1      2015      Q1       Feb              Albania                25   \n",
       "2      2015      Q1       Feb              Algeria               125   \n",
       "3      2015      Q1       Feb  Antigua and Barbuda                 5   \n",
       "4      2015      Q1       Feb            Argentina                15   \n",
       "...     ...     ...       ...                  ...               ...   \n",
       "19692  2024      Q4       Oct            Venezuela               195   \n",
       "19693  2024      Q4       Oct              Vietnam               360   \n",
       "19694  2024      Q4       Oct                Yemen                35   \n",
       "19695  2024      Q4       Oct               Zambia                 0   \n",
       "19696  2024      Q4       Oct             Zimbabwe                35   \n",
       "\n",
       "       month_int              country country_add  \n",
       "0              2          Afghanistan           -  \n",
       "1              2              Albania           -  \n",
       "2              2              Algeria           -  \n",
       "3              2  Antigua and Barbuda           -  \n",
       "4              2            Argentina           -  \n",
       "...          ...                  ...         ...  \n",
       "19692         10            Venezuela           -  \n",
       "19693         10              Vietnam           -  \n",
       "19694         10                Yemen           -  \n",
       "19695         10               Zambia           -  \n",
       "19696         10             Zimbabwe           -  \n",
       "\n",
       "[19697 rows x 8 columns]"
      ]
     },
     "execution_count": 13,
     "metadata": {},
     "output_type": "execute_result"
    }
   ],
   "source": [
    "imm_clean_df['country_add'] = imm_clean_df['country_add'].replace({None: '-'})\n",
    "imm_clean_df"
   ]
  },
  {
   "cell_type": "code",
   "execution_count": 14,
   "metadata": {},
   "outputs": [
    {
     "data": {
      "text/plain": [
       "Index(['year', 'quarter', 'month_str', 'immigration_flow', 'month_int',\n",
       "       'country'],\n",
       "      dtype='object')"
      ]
     },
     "execution_count": 14,
     "metadata": {},
     "output_type": "execute_result"
    }
   ],
   "source": [
    "# keep only country name cleaned \n",
    "\n",
    "imm_clean_df = imm_clean_df.drop(columns=['country_x', 'country_add'])\n",
    "imm_clean_df.columns"
   ]
  },
  {
   "cell_type": "code",
   "execution_count": 15,
   "metadata": {},
   "outputs": [
    {
     "name": "stdout",
     "output_type": "stream",
     "text": [
      "year                 2015\n",
      "quarter                Q1\n",
      "month_str             Feb\n",
      "immigration_flow        0\n",
      "month_int               2\n",
      "country             Congo\n",
      "Name: 34, dtype: object\n"
     ]
    }
   ],
   "source": [
    "# check with congo\n",
    "\n",
    "print(imm_clean_df.loc[34,])"
   ]
  },
  {
   "cell_type": "code",
   "execution_count": 16,
   "metadata": {},
   "outputs": [
    {
     "data": {
      "text/html": [
       "<div>\n",
       "<style scoped>\n",
       "    .dataframe tbody tr th:only-of-type {\n",
       "        vertical-align: middle;\n",
       "    }\n",
       "\n",
       "    .dataframe tbody tr th {\n",
       "        vertical-align: top;\n",
       "    }\n",
       "\n",
       "    .dataframe thead th {\n",
       "        text-align: right;\n",
       "    }\n",
       "</style>\n",
       "<table border=\"1\" class=\"dataframe\">\n",
       "  <thead>\n",
       "    <tr style=\"text-align: right;\">\n",
       "      <th></th>\n",
       "      <th>country</th>\n",
       "      <th>year</th>\n",
       "      <th>month_str</th>\n",
       "      <th>month_int</th>\n",
       "      <th>quarter</th>\n",
       "      <th>immigration_flow</th>\n",
       "    </tr>\n",
       "  </thead>\n",
       "  <tbody>\n",
       "    <tr>\n",
       "      <th>0</th>\n",
       "      <td>Afghanistan</td>\n",
       "      <td>2015</td>\n",
       "      <td>Feb</td>\n",
       "      <td>2</td>\n",
       "      <td>Q1</td>\n",
       "      <td>125</td>\n",
       "    </tr>\n",
       "    <tr>\n",
       "      <th>1</th>\n",
       "      <td>Albania</td>\n",
       "      <td>2015</td>\n",
       "      <td>Feb</td>\n",
       "      <td>2</td>\n",
       "      <td>Q1</td>\n",
       "      <td>25</td>\n",
       "    </tr>\n",
       "    <tr>\n",
       "      <th>2</th>\n",
       "      <td>Algeria</td>\n",
       "      <td>2015</td>\n",
       "      <td>Feb</td>\n",
       "      <td>2</td>\n",
       "      <td>Q1</td>\n",
       "      <td>125</td>\n",
       "    </tr>\n",
       "    <tr>\n",
       "      <th>3</th>\n",
       "      <td>Antigua and Barbuda</td>\n",
       "      <td>2015</td>\n",
       "      <td>Feb</td>\n",
       "      <td>2</td>\n",
       "      <td>Q1</td>\n",
       "      <td>5</td>\n",
       "    </tr>\n",
       "    <tr>\n",
       "      <th>4</th>\n",
       "      <td>Argentina</td>\n",
       "      <td>2015</td>\n",
       "      <td>Feb</td>\n",
       "      <td>2</td>\n",
       "      <td>Q1</td>\n",
       "      <td>15</td>\n",
       "    </tr>\n",
       "  </tbody>\n",
       "</table>\n",
       "</div>"
      ],
      "text/plain": [
       "               country  year month_str  month_int quarter  immigration_flow\n",
       "0          Afghanistan  2015       Feb          2      Q1               125\n",
       "1              Albania  2015       Feb          2      Q1                25\n",
       "2              Algeria  2015       Feb          2      Q1               125\n",
       "3  Antigua and Barbuda  2015       Feb          2      Q1                 5\n",
       "4            Argentina  2015       Feb          2      Q1                15"
      ]
     },
     "execution_count": 16,
     "metadata": {},
     "output_type": "execute_result"
    }
   ],
   "source": [
    "# organize columns\n",
    "\n",
    "imm_clean_df = imm_clean_df[['country', 'year', 'month_str', \n",
    "                            'month_int','quarter', 'immigration_flow']]\n",
    "imm_clean_df.head(5)"
   ]
  },
  {
   "cell_type": "code",
   "execution_count": 17,
   "metadata": {},
   "outputs": [
    {
     "data": {
      "text/html": [
       "<div>\n",
       "<style scoped>\n",
       "    .dataframe tbody tr th:only-of-type {\n",
       "        vertical-align: middle;\n",
       "    }\n",
       "\n",
       "    .dataframe tbody tr th {\n",
       "        vertical-align: top;\n",
       "    }\n",
       "\n",
       "    .dataframe thead th {\n",
       "        text-align: right;\n",
       "    }\n",
       "</style>\n",
       "<table border=\"1\" class=\"dataframe\">\n",
       "  <thead>\n",
       "    <tr style=\"text-align: right;\">\n",
       "      <th></th>\n",
       "      <th>index</th>\n",
       "      <th>country</th>\n",
       "      <th>year</th>\n",
       "      <th>month_str</th>\n",
       "      <th>month_int</th>\n",
       "      <th>quarter</th>\n",
       "      <th>immigration_flow</th>\n",
       "    </tr>\n",
       "  </thead>\n",
       "  <tbody>\n",
       "    <tr>\n",
       "      <th>0</th>\n",
       "      <td>0</td>\n",
       "      <td>Afghanistan</td>\n",
       "      <td>2015</td>\n",
       "      <td>Feb</td>\n",
       "      <td>2</td>\n",
       "      <td>Q1</td>\n",
       "      <td>125</td>\n",
       "    </tr>\n",
       "    <tr>\n",
       "      <th>1</th>\n",
       "      <td>1</td>\n",
       "      <td>Albania</td>\n",
       "      <td>2015</td>\n",
       "      <td>Feb</td>\n",
       "      <td>2</td>\n",
       "      <td>Q1</td>\n",
       "      <td>25</td>\n",
       "    </tr>\n",
       "    <tr>\n",
       "      <th>2</th>\n",
       "      <td>2</td>\n",
       "      <td>Algeria</td>\n",
       "      <td>2015</td>\n",
       "      <td>Feb</td>\n",
       "      <td>2</td>\n",
       "      <td>Q1</td>\n",
       "      <td>125</td>\n",
       "    </tr>\n",
       "    <tr>\n",
       "      <th>3</th>\n",
       "      <td>3</td>\n",
       "      <td>Antigua and Barbuda</td>\n",
       "      <td>2015</td>\n",
       "      <td>Feb</td>\n",
       "      <td>2</td>\n",
       "      <td>Q1</td>\n",
       "      <td>5</td>\n",
       "    </tr>\n",
       "    <tr>\n",
       "      <th>4</th>\n",
       "      <td>4</td>\n",
       "      <td>Argentina</td>\n",
       "      <td>2015</td>\n",
       "      <td>Feb</td>\n",
       "      <td>2</td>\n",
       "      <td>Q1</td>\n",
       "      <td>15</td>\n",
       "    </tr>\n",
       "  </tbody>\n",
       "</table>\n",
       "</div>"
      ],
      "text/plain": [
       "   index              country  year month_str  month_int quarter  \\\n",
       "0      0          Afghanistan  2015       Feb          2      Q1   \n",
       "1      1              Albania  2015       Feb          2      Q1   \n",
       "2      2              Algeria  2015       Feb          2      Q1   \n",
       "3      3  Antigua and Barbuda  2015       Feb          2      Q1   \n",
       "4      4            Argentina  2015       Feb          2      Q1   \n",
       "\n",
       "   immigration_flow  \n",
       "0               125  \n",
       "1                25  \n",
       "2               125  \n",
       "3                 5  \n",
       "4                15  "
      ]
     },
     "execution_count": 17,
     "metadata": {},
     "output_type": "execute_result"
    }
   ],
   "source": [
    "imm_new_df = imm_clean_df.reset_index()\n",
    "imm_new_df.head(5)"
   ]
  },
  {
   "cell_type": "code",
   "execution_count": 18,
   "metadata": {},
   "outputs": [],
   "source": [
    "# Change countries name to adapt to th UN convention\n",
    "\n",
    "imm_new_df['country'] = imm_new_df['country'].replace({\n",
    "                            'Azores' : 'Canada' ,\n",
    "                            'Bahama Islands': 'Bahamas, The',\n",
    "                            'Bosnia-Herzegovina' : 'Bosnia and Herzegovina' ,                    \n",
    "                            'Burkina-Faso' : 'Burkina Faso',\n",
    "                            'Brunei' : 'Brunei Darussalam' ,\n",
    "                            'Cape Verde Islands' : 'Cabo Verde' ,\n",
    "                            'Country not stated' : 'Canada' ,\n",
    "                            'Congo' : 'Congo, Dem. Rep.',\n",
    "                            'Czech Republic' : 'Czechia',\n",
    "                            'East Timor' : 'Timor-Leste' ,\n",
    "                            'Egypt' : 'Egypt, Arab Rep.' ,\n",
    "                            'Gabon Republic' : 'Gabon' ,\n",
    "                            'Gambia' : 'Gambia, The' ,\n",
    "                            'Guadeloupe' : 'France' ,\n",
    "                            'Holy See' : 'Canada' ,\n",
    "                            'Hong Kong SAR' : 'Hong Kong SAR, China' ,\n",
    "                            'Iran' : 'Iran, Islamic Rep.' ,\n",
    "                            'Ivory Coast' : \"Cote d'Ivoire\" ,\n",
    "                            'Korea' : 'Korea, Rep.' ,\n",
    "                            'Kyrgyzstan' : 'Kyrgyz Republic' ,\n",
    "                            'Laos' : 'Lao PDR' ,\n",
    "                            'Macau SAR' : 'Macao SAR, China' ,\n",
    "                            'Macedonia' : 'North Macedonia' ,\n",
    "                            'Micronesia' : 'Micronesia, Fed. Sts.' ,\n",
    "                            'Myanmar (Burma)' : 'Myanmar' ,\n",
    "                            'Netherlands Antilles' : 'Canada' ,\n",
    "                            'Nevis' : 'Canada' ,\n",
    "                            'Other' : 'Canada' ,\n",
    "                            'Palestinian Authority (Gaza/West Bank)' : 'West Bank and Gaza' ,\n",
    "                            'Reunion' : 'France' ,\n",
    "                            'Russia' : 'Russian Federation' ,\n",
    "                            'Sint-Maarten' : 'Canada' ,\n",
    "                            'St. Kitts-Nevis' : 'Canada' ,\n",
    "                            'Stateless' : 'Canada' ,\n",
    "                            'Surinam' : 'Suriname' ,\n",
    "                            'Swaziland' : 'Canada' ,\n",
    "                            'Syria' : 'Syrian Arab Republic' ,\n",
    "                            'Taiwan' : 'China' ,\n",
    "                            'Turkey' : 'Turkiye' ,\n",
    "                            'United Kingdom and Overseas Territories' : 'United Kingdom' ,\n",
    "                            'United States of America' : 'United States' ,\n",
    "                            'Venezuela' : 'Venezuela, RB' ,\n",
    "                            'Vietnam' : 'Viet Nam' ,\n",
    "                            'Virgin Islands' : 'British Virgin Islands' ,\n",
    "                            'Western Sahara' : 'Canada' ,\n",
    "                            'Yemen' : 'Yemen, Rep.' ,\n",
    "\n",
    "                            })\n"
   ]
  },
  {
   "cell_type": "code",
   "execution_count": 19,
   "metadata": {},
   "outputs": [],
   "source": [
    "# export to CSV\n",
    "\n",
    "imm_new_df.to_csv('Output/immigrants_by_country_monthly.csv', index=False)"
   ]
  },
  {
   "cell_type": "code",
   "execution_count": 20,
   "metadata": {},
   "outputs": [
    {
     "data": {
      "text/plain": [
       "country      year\n",
       "Afghanistan  2015    2625\n",
       "             2016    2655\n",
       "             2017    3460\n",
       "             2018    3560\n",
       "             2019    3890\n",
       "                     ... \n",
       "Zimbabwe     2020     335\n",
       "             2021     505\n",
       "             2022     615\n",
       "             2023     555\n",
       "             2024     505\n",
       "Name: immigration_flow, Length: 1836, dtype: int64"
      ]
     },
     "execution_count": 20,
     "metadata": {},
     "output_type": "execute_result"
    }
   ],
   "source": [
    "# groupby country / year to get the total by country\n",
    "\n",
    "imm_yearly = imm_new_df.groupby(['country','year'])['immigration_flow'].sum()\n",
    "imm_yearly.to_csv('Output/immigrants_by_country_year.csv')\n",
    "imm_yearly"
   ]
  },
  {
   "cell_type": "code",
   "execution_count": 22,
   "metadata": {},
   "outputs": [
    {
     "data": {
      "text/plain": [
       "country\n",
       "Afghanistan           81305\n",
       "Albania                5540\n",
       "Algeria               39655\n",
       "Andorra                   0\n",
       "Angola                  925\n",
       "                      ...  \n",
       "Viet Nam              41200\n",
       "West Bank and Gaza     5920\n",
       "Yemen, Rep.            5875\n",
       "Zambia                  605\n",
       "Zimbabwe               4610\n",
       "Name: immigration_flow, Length: 200, dtype: int64"
      ]
     },
     "execution_count": 22,
     "metadata": {},
     "output_type": "execute_result"
    }
   ],
   "source": [
    "# groupby to get the total by country\n",
    "\n",
    "imm_bycountry = imm_new_df.groupby(['country'])['immigration_flow'].sum()\n",
    "imm_bycountry.to_csv('Output/immigrants_by_country.csv')\n",
    "imm_bycountry"
   ]
  },
  {
   "cell_type": "markdown",
   "metadata": {},
   "source": [
    "# (2) create DF for countries\n",
    "\n",
    "#### information will be used to merge or generate vizualisations\n",
    "source : https://api.worldbank.org/v2/country?format=json"
   ]
  },
  {
   "cell_type": "code",
   "execution_count": null,
   "metadata": {},
   "outputs": [],
   "source": [
    "country_list = imm_clean_df['country'].tolist()\n",
    "country_list"
   ]
  },
  {
   "cell_type": "code",
   "execution_count": null,
   "metadata": {},
   "outputs": [],
   "source": [
    "## retrieve all the countries from world bank API\n",
    "\n",
    "### generate DF Countries\n",
    "\n",
    "page = 1   ## there are 6 pages in the json file\n",
    "data = []\n",
    "url_countries = 'https://api.worldbank.org/v2/country?format=json'\n",
    "\n",
    "for page in range(1,7):\n",
    "    response = requests.get(f\"{url_countries}&page={page}\")\n",
    "    json_data = response.json()\n",
    "    \n",
    "    # Add the data from the current page\n",
    "    data.extend(json_data[1])  \n",
    "    \n",
    "## create DF and select columns\n",
    "\n",
    "countries_wb_df = pd.DataFrame(data)\n",
    "countries_wb_df['region'] = countries_wb_df['region'].apply(lambda x: x['value'])\n",
    "countries_wb_df = countries_wb_df[['id', 'iso2Code', 'name', 'region','capitalCity', 'longitude', 'latitude']]\n",
    "countries_wb_df = countries_wb_df.rename(columns={\n",
    "                                                    'name':'country',\n",
    "                                                    'id':'iso3Code'\n",
    "                                                    })\n",
    "\n",
    "\n",
    "regions = (countries_wb_df['region'] != \"Aggregates\")\n",
    "countries_wb_df = countries_wb_df[regions]\n",
    "\n",
    "\n",
    "countries_wb_df.head()"
   ]
  },
  {
   "cell_type": "code",
   "execution_count": null,
   "metadata": {},
   "outputs": [],
   "source": [
    "countries_wb_df = countries_wb_df.set_index('iso3Code')\n",
    "countries_wb_df"
   ]
  },
  {
   "cell_type": "code",
   "execution_count": 65,
   "metadata": {},
   "outputs": [],
   "source": [
    "### Export to csv file in output\n",
    "\n",
    "countries_wb_df.to_csv('Output/countries_list_UN_referential.csv')\n"
   ]
  },
  {
   "cell_type": "markdown",
   "metadata": {},
   "source": [
    "# (3) Extract macro economic data\n",
    "#### from world bank API\n",
    "source : https://api.worldbank.org/v2/country/DZA/indicator/NY.GDP.PCAP.KD?date=2015:2024&format=json"
   ]
  },
  {
   "cell_type": "code",
   "execution_count": null,
   "metadata": {},
   "outputs": [],
   "source": [
    "# the API uses the iso3Code code of the country (example PAK for pakistan, AFG for Afghanistan)\n",
    "# we need to identify the needed countries from from our immigration_df and retrieve these iso3Code from countries_df\n",
    "\n",
    "countries_request = pd.merge(imm_new_df, countries_wb_df, left_on='country', right_on='country')\n",
    "countries_request"
   ]
  },
  {
   "cell_type": "code",
   "execution_count": null,
   "metadata": {},
   "outputs": [],
   "source": [
    "# extrac the needed iso3code in a list to be used to iterate\n",
    "\n",
    "country_list = countries_request['iso3Code'].unique().tolist()\n",
    "country_list"
   ]
  },
  {
   "cell_type": "code",
   "execution_count": 59,
   "metadata": {},
   "outputs": [],
   "source": [
    "import requests"
   ]
  },
  {
   "cell_type": "code",
   "execution_count": null,
   "metadata": {},
   "outputs": [],
   "source": [
    "# this line is just to check that we are connected to the APIT : O TEST before loop\n",
    "\n",
    "link_pop = f'https://api.worldbank.org/v2/country/DZA/indicator/NY.GDP.PCAP.KD?date=2015:2024&format=json'\n",
    "response_pop = requests.get(link_pop).json()\n",
    "\n",
    "pprint(response_pop)"
   ]
  },
  {
   "cell_type": "code",
   "execution_count": null,
   "metadata": {},
   "outputs": [],
   "source": [
    "# this cell is used to check our code before to launch the loop \n",
    "# TO TEST before loop\n",
    "\n",
    "\n",
    "link_pop = f'https://api.worldbank.org/v2/country/DZA/indicator/NY.GDP.PCAP.KD?date=2015:2024&format=json'\n",
    "response_pop = requests.get(link_pop).json()\n",
    "\n",
    "# pprint(response_pop)\n",
    "\n",
    "pop_list = []\n",
    "for item in response_pop[1]:  # Assuming response_pop[1] is a list of dictionaries\n",
    "    pop_list.append({\n",
    "        'iso3Code': item['countryiso3code'],\n",
    "        'iso2Code': item['country']['id'],\n",
    "        'Country': item['country']['value'],              \n",
    "        'year': item['date'],\n",
    "        'indicator': item['indicator']['value'],\n",
    "        'value': item['value']\n",
    "    })\n",
    "\n",
    "pop_list"
   ]
  },
  {
   "cell_type": "code",
   "execution_count": 62,
   "metadata": {},
   "outputs": [],
   "source": [
    "# DEFINE THE VARIABLES : INDICATORS, TIME PERIOD\n",
    "\n",
    "# create the list of indicators\n",
    "            #  'NY.GDP.PCAP.KD' gdp per capita\n",
    "            # 'SP.POP.TOTL' total population\n",
    "            #  SL.UEM.ADVN.ZS : Unemployment with advanced education (% of total labor force with advanced education)\n",
    "            # SL.UEM.TOTL.NE.ZS : Unemployment, total (% of total labor force) (national estimate)\n",
    "            # SI.POV.DDAY  Poverty headcount ratio at $2.15 a day (2017 PPP) (% of population)\n",
    "\n",
    "            # Population density (people per sq. km of land area)\tEN.POP.DNST\n",
    "            # Level of water stress: freshwater withdrawal as a proportion of available freshwater resources\tER.H2O.FWST.ZS\n",
    "            # Market capitalization of listed domestic companies (% of GDP) CM.MKT.LCAP.GD.ZS\n",
    "            # Rural population (% of total population) SP.RUR.TOTL.ZS\n",
    "            # S&P Global Equity Indices (annual % change)\tCM.MKT.INDX.ZG\n",
    "            # Voice and Accountability: Number of Sources\tVA.NO.SRC\n",
    "\n",
    "\n",
    "\n",
    "indicators = ['NY.GDP.PCAP.KD','SP.POP.TOTL' , 'SL.UEM.ADVN.ZS', 'SL.UEM.TOTL.NE.ZS', 'SI.POV.DDAY',\n",
    "              'EN.POP.DNST', 'ER.H2O.FWST.ZS', 'CM.MKT.LCAP.GD.ZS', 'SP.RUR.TOTL.ZS', 'CM.MKT.INDX.ZG', 'VA.NO.SRC' ]\n",
    "\n",
    "# define 1st and last year f the loop\n",
    "\n",
    "year_min = 2015\n",
    "year_max = 2024\n",
    "years_list = [x for x in range(year_min, year_max +1)]   # COULD BE USED BUT NOT IN THE CURRENT CODE\n"
   ]
  },
  {
   "cell_type": "code",
   "execution_count": null,
   "metadata": {},
   "outputs": [],
   "source": [
    "# lOOP to extrac tdata from API : between 7 and 9 minutes\n",
    "\n",
    "# this code will loop through all the listed countries and the needed indicators to generate a list\n",
    "\n",
    "print(f\"start code\")\n",
    "print('---------------------------')\n",
    "\n",
    "macro_eco_data_list = []\n",
    "\n",
    "# the end point is defined by (i) country (II) indicator (III) year start and year end\n",
    "        # => we need to create 1 end point of each country / indicator\n",
    "\n",
    "for i in country_list :\n",
    "\n",
    "    for j in indicators :\n",
    "\n",
    "        print(f\"--------------------------\")\n",
    "        print(f\"country {i} indicator {j}\")\n",
    "\n",
    "        try:\n",
    "\n",
    "            # define the end point by country (from list I) and indicator (from list J)\n",
    "\n",
    "            link_pop = f'https://api.worldbank.org/v2/country/{i}/indicator/{j}?date={year_min}:{year_max}&format=json'\n",
    "            response_pop = requests.get(link_pop).json()\n",
    "\n",
    "            # loop through the response_pop (list) to extract the value for each year in the serie \n",
    "\n",
    "            for item in response_pop[1]:  \n",
    "                macro_eco_data_list.append({\n",
    "                    'iso3Code': item['countryiso3code'],\n",
    "                    'iso2Code': item['country']['id'],\n",
    "                    'country': item['country']['value'],              \n",
    "                    'year': item['date'],\n",
    "                    'indicator': item['indicator']['value'],\n",
    "                    'value': item['value']\n",
    "                })\n",
    "        except:   \n",
    "            print(f\"country {i} indicator {j}....... not found\")"
   ]
  },
  {
   "cell_type": "code",
   "execution_count": null,
   "metadata": {},
   "outputs": [],
   "source": [
    "## Create DF with the previous output\n",
    "\n",
    "macro_eco_data_df = pd.DataFrame(macro_eco_data_list)\n",
    "macro_eco_data_df = macro_eco_data_df.dropna(how='all')\n",
    "\n",
    "macro_eco_data_df.head()"
   ]
  },
  {
   "cell_type": "code",
   "execution_count": null,
   "metadata": {},
   "outputs": [],
   "source": [
    "print(f'size of the DF : {macro_eco_data_df.shape}')\n",
    "print('................')\n",
    "print(macro_eco_data_df.dtypes)"
   ]
  },
  {
   "cell_type": "code",
   "execution_count": null,
   "metadata": {},
   "outputs": [],
   "source": [
    "# change datatype \n",
    "\n",
    "macro_eco_data_df = macro_eco_data_df.astype({'year':'int64'})\n",
    "macro_eco_data_df.dtypes"
   ]
  },
  {
   "cell_type": "code",
   "execution_count": 30,
   "metadata": {},
   "outputs": [],
   "source": [
    "# export to csv\n",
    "\n",
    "macro_eco_data_df.to_csv('Output/macro_economic_data.csv')"
   ]
  }
 ],
 "metadata": {
  "kernelspec": {
   "display_name": "base",
   "language": "python",
   "name": "python3"
  },
  "language_info": {
   "codemirror_mode": {
    "name": "ipython",
    "version": 3
   },
   "file_extension": ".py",
   "mimetype": "text/x-python",
   "name": "python",
   "nbconvert_exporter": "python",
   "pygments_lexer": "ipython3",
   "version": "3.12.3"
  }
 },
 "nbformat": 4,
 "nbformat_minor": 2
}
